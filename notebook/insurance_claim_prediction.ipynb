
{
 "cells": [
  {
   "cell_type": "markdown",
   "metadata": {},
   "source": [
    "# Insurance Claim Prediction | Classification\n",
    "This notebook uses Logistic Regression and XGBoost to predict the likelihood of insurance claims."
   ]
  },
  {
   "cell_type": "code",
   "execution_count": null,
   "metadata": {},
   "outputs": [],
   "source": [
    "import pandas as pd\n",
    "from src.model import load_data, preprocess_data, train_models, evaluate_model\n",
    "import seaborn as sns\n",
    "import matplotlib.pyplot as plt"
   ]
  },
  {
   "cell_type": "code",
   "execution_count": null,
   "metadata": {},
   "outputs": [],
   "source": [
    "# Load and split data\n",
    "df = load_data('../data/insurance.csv')\n",
    "X_train, X_test, y_train, y_test = preprocess_data(df)"
   ]
  },
  {
   "cell_type": "code",
   "execution_count": null,
   "metadata": {},
   "outputs": [],
   "source": [
    "# Train models\n",
    "log_reg, xgb = train_models(X_train, y_train)"
   ]
  },
  {
   "cell_type": "code",
   "execution_count": null,
   "metadata": {}, 
   "outputs": [],
   "source": [
    "# Evaluate Logistic Regression\n",
    "prec_lr, recall_lr, cm_lr = evaluate_model(log_reg, X_test, y_test)\n",
    "print(f"Logistic Regression - Precision: {prec_lr:.2f}, Recall: {recall_lr:.2f}")\n",
    "sns.heatmap(cm_lr, annot=True, fmt='d')\n",
    "plt.title('Logistic Regression Confusion Matrix')\n",
    "plt.show()"
   ]
  },
  {
   "cell_type": "code",
   "execution_count": null,
   "metadata": {}, 
   "outputs": [],
   "source": [
    "# Evaluate XGBoost\n",
    "prec_xgb, recall_xgb, cm_xgb = evaluate_model(xgb, X_test, y_test)\n",
    "print(f"XGBoost - Precision: {prec_xgb:.2f}, Recall: {recall_xgb:.2f}")\n",
    "sns.heatmap(cm_xgb, annot=True, fmt='d')\n",
    "plt.title('XGBoost Confusion Matrix')\n",
    "plt.show()"
   ]
  }
 ],
 "metadata": {
  "kernelspec": {
   "display_name": "Python 3",
   "language": "python",
   "name": "python3"
  },
  "language_info": {
   "name": "python",
   "version": "3.8"
  }
 },
 "nbformat": 4,
 "nbformat_minor": 4
}
